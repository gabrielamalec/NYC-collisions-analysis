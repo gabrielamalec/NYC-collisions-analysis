{
 "cells": [
  {
   "cell_type": "markdown",
   "id": "9b4dc0a1",
   "metadata": {},
   "source": [
    "Information Visualization Project - Part 2\n",
    "===\n",
    "*Universitat Politècnica de Catalunya*\n",
    "\n",
    "Gabriela Malec\n",
    "---\n",
    "\n",
    "---"
   ]
  },
  {
   "cell_type": "markdown",
   "id": "2819c787",
   "metadata": {},
   "source": [
    "The second project is a continuation of my work with data about collisions in New York City. This time I have prepared a dataset covering the summer months, i.e., June, July, August, and September in 2018. All interactive visualizations were made using Altair and presented using Streamlit. <br>\n",
    "The aim of this work was to answer the following questions:\n",
    "\n",
    "* Which weather condition and type of vehicle were present in the majority of accidents each month? And in the combination of all the months?\n",
    "* In which area and at what hour did the majority of accidents each month happen? And in the combination of all the months?\n",
    "* Which area presented the majority of taxi accidents during rainy days in June on Mondays at noon, 12am?\n",
    "* Which day had more accidents during clear days in July in Manhattan?"
   ]
  },
  {
   "cell_type": "markdown",
   "id": "772c1639",
   "metadata": {},
   "source": [
    "Small Preprocessing\n",
    "==="
   ]
  },
  {
   "cell_type": "markdown",
   "id": "f9904fa5",
   "metadata": {},
   "source": [
    "The initial phase of the project involved appropriate data preparation. I loaded two datasets, one containing collision data and the other weather data. Subsequently, I merged them based on date columns into a single dataset to ensure the consistency of my analysis. "
   ]
  },
  {
   "cell_type": "code",
   "execution_count": null,
   "id": "5f9c03bd",
   "metadata": {},
   "outputs": [],
   "source": [
    "import altair as alt\n",
    "import pandas as pd\n",
    "import geopandas as gpd\n",
    "import math"
   ]
  },
  {
   "cell_type": "code",
   "execution_count": null,
   "id": "285109b0",
   "metadata": {},
   "outputs": [],
   "source": [
    "crash = pd.read_csv('data-collisions-vehicles-proj2.csv')\n",
    "alt.data_transformers.disable_max_rows()"
   ]
  },
  {
   "cell_type": "code",
   "execution_count": null,
   "id": "bf67d0e9",
   "metadata": {},
   "outputs": [],
   "source": [
    "crash.head()"
   ]
  },
  {
   "cell_type": "code",
   "execution_count": null,
   "id": "79d4254f",
   "metadata": {},
   "outputs": [],
   "source": [
    "crash['CRASH DATE'] = pd.to_datetime(crash['CRASH DATE'], format='%Y-%m-%dT%H:%M:%SZ')\n",
    "crash['Month'] = crash['CRASH DATE'].dt.strftime('%B')\n",
    "crash['Weekday'] = crash['CRASH DATE'].dt.day_name()"
   ]
  },
  {
   "cell_type": "code",
   "execution_count": null,
   "id": "fd0e1796",
   "metadata": {},
   "outputs": [],
   "source": [
    "weather = pd.read_csv('weather2018.csv')\n",
    "selected_columns = ['datetime', 'icon']\n",
    "weather_subset = weather[selected_columns]\n",
    "weather_subset.head()"
   ]
  },
  {
   "cell_type": "code",
   "execution_count": null,
   "id": "4eee3ba6",
   "metadata": {},
   "outputs": [],
   "source": [
    "weather_subset['datetime'] = pd.to_datetime(weather_subset['datetime'], format='%Y-%m-%d')\n",
    "crash_w = pd.merge(crash, weather_subset, left_on='CRASH DATE', right_on='datetime', how='left')\n",
    "crash_w = crash_w.drop(columns='datetime')\n",
    "crash_w.rename(columns={'icon': 'weather'}, inplace=True)\n",
    "# crash_w.info()\n",
    "crash_w.head()"
   ]
  },
  {
   "cell_type": "markdown",
   "id": "a22ac1a6",
   "metadata": {},
   "source": [
    "Design and implementation\n",
    "====\n",
    "I started the design process by preparing a plan and considering possible solutions to answer each of the questions. Then, I created interactive charts to provide answers to each of them in a visually engaging way.\n",
    "\n",
    "---\n",
    "* Question 1 <br>\n",
    "Which weather condition and type of vehicle were present in the majority of accidents each month? And in the combination of all the months? <br>\n",
    "\n",
    "To answer this question, I created an interactive rectangular heatmap chart to visualize the relationship between weather conditions, vehicle types, and the count of accidents. I implemented a menu with radio buttons to enable dynamic updates of the chart. It allows displaying the count of accidents based on weather conditions and vehicle types depending on the selected month. A darker color signifies a higher incidence of accidents under specific conditions."
   ]
  },
  {
   "cell_type": "code",
   "execution_count": null,
   "id": "ba45bc41",
   "metadata": {},
   "outputs": [],
   "source": [
    "options = ['June', 'July', 'August', 'September']\n",
    "labels = [option + ' ' for option in options]\n",
    "\n",
    "input_dropdown = alt.binding_radio(\n",
    "    # Add the empty selection which shows all when clicked\n",
    "    options=options + [None],\n",
    "    labels=labels + ['All'],\n",
    "    name='Month: '\n",
    ")\n",
    "selection = alt.selection_point(\n",
    "    fields=['Month'],\n",
    "    bind=input_dropdown,\n",
    ")\n",
    "\n",
    "\n",
    "alt.Chart(crash_w).mark_rect().encode(\n",
    "    x='weather:O',\n",
    "    y='VEHICLE TYPE CODE 1:O',\n",
    "    color=alt.Color('count()', scale=alt.Scale(scheme='tealblues', type='log')),\n",
    "    tooltip=['weather:O', 'VEHICLE TYPE CODE 1:O', 'count()']  \n",
    ").properties(\n",
    "    width=400,\n",
    "    height=400\n",
    ").add_params(\n",
    "    selection\n",
    ").transform_filter(\n",
    "    selection\n",
    ")"
   ]
  },
  {
   "cell_type": "code",
   "execution_count": null,
   "id": "ede232d4",
   "metadata": {},
   "outputs": [],
   "source": [
    "crash_w['weather'].value_counts()"
   ]
  },
  {
   "cell_type": "code",
   "execution_count": null,
   "id": "5f3f8a23",
   "metadata": {},
   "outputs": [],
   "source": [
    "crash_w['VEHICLE TYPE CODE 1'].value_counts()"
   ]
  },
  {
   "cell_type": "markdown",
   "id": "49a2fe82",
   "metadata": {},
   "source": [
    "In the analyzed dataset, we can see that the highest number of accidents took place during rainy weather, and taxis were most often involved in collisions."
   ]
  },
  {
   "cell_type": "markdown",
   "id": "d7019d44",
   "metadata": {},
   "source": [
    "---\n",
    "* Question 2 <br>\n",
    "In which area and at what hour did the majority of accidents each month happen? And in the combination of all the months? <br>\n",
    "\n",
    "To conduct this visualization, I performed an operation of removing NA values to handle missing and incomplete data. Then, I added a new 'Hour' column, representing the hour of the day based on the 'CRASH TIME' column. I grouped all accidents that occurred between full hours, aiming to enhance the clarity of the dataset.\n",
    "I decided to create a line plot that allows users to explore the temporal patterns of accidents throughout the day across different boroughs. Hence, I created a selection point and linked it to the 'Month' field using the radio buttons binding. This selection is instrumental for interactive filtering, allowing users to dynamically explore the relationship between the number of accidents and the hour of the day based on the selected month."
   ]
  },
  {
   "cell_type": "code",
   "execution_count": null,
   "id": "58c25807",
   "metadata": {},
   "outputs": [],
   "source": [
    "input_dropdown = alt.binding_radio(\n",
    "    # Add the empty selection which shows all when clicked\n",
    "    options=options + [None],\n",
    "    labels=labels + ['All'],\n",
    "    name='Month: '\n",
    ")\n",
    "selection = alt.selection_point(\n",
    "    fields=['Month'],\n",
    "    bind=input_dropdown,\n",
    ")\n",
    "\n",
    "crash_bor = crash_w.dropna(subset=['BOROUGH']).copy()\n",
    "crash_bor['Hour'] = pd.to_datetime(crash_bor['CRASH TIME'], format='%H:%M', errors='coerce').dt.hour\n",
    "\n",
    "chart = alt.Chart(crash_bor).mark_line(point=True).encode(\n",
    "    x=alt.X('Hour:O', title='Hour'),\n",
    "    y=alt.Y('count()', title='Number of Accidents'),\n",
    "    color=alt.Color('BOROUGH:N', title='Area' , scale=alt.Scale(scheme='tableau10')),\n",
    "    tooltip=['Hour', 'BOROUGH', 'count()']\n",
    ").properties(\n",
    "    width=800,\n",
    "    height=400,\n",
    "    title='Line Plot of Accidents by Hour and Borough'\n",
    ").add_params(\n",
    "    selection\n",
    ").transform_filter(\n",
    "    selection\n",
    ")\n",
    "\n",
    "chart"
   ]
  },
  {
   "cell_type": "markdown",
   "id": "13e69d3a",
   "metadata": {},
   "source": [
    "---\n",
    "* Question 3 <br>\n",
    "Which area presented the majority of taxi accidents during rainy days in June on Mondays at noon, 12am? <br>\n",
    "\n",
    "I prepared the data using the groupby function to organize it by the columns 'BOROUGH', 'Month', and 'weather'. Subsequently, I applied the size function to calculate the total number of crashes for each unique combination of these factors. I utilized mapping to assign numerical codes to each borough."
   ]
  },
  {
   "cell_type": "code",
   "execution_count": null,
   "id": "51ada3b2",
   "metadata": {},
   "outputs": [],
   "source": [
    "# Group by 'BOROUGH' and 'Month' to get total crashes for each borough each month\n",
    "borough_monthly_crash = crash_bor.groupby(['BOROUGH', 'Month', 'weather']).size().reset_index(name='total_crashes')\n",
    "\n",
    "borough_mapping = {\n",
    "    'Staten Island': 5,\n",
    "    'Queens': 4,\n",
    "    'Brooklyn': 3,\n",
    "    'Manhattan': 1,\n",
    "    'Bronx': 2\n",
    "}\n",
    "\n",
    "borough_monthly_crash['boro_code'] = borough_monthly_crash['BOROUGH'].map(borough_mapping)\n",
    "borough_monthly_crash.head()"
   ]
  },
  {
   "cell_type": "markdown",
   "id": "dec86d93",
   "metadata": {},
   "source": [
    "My first attempt to answer this question focused on creating a visualization using a choropleth map. To establish a comprehensive framework, I generated a new DataFrame named all_combinations by combining unique borough codes with predefined months. This set the stage for a detailed representation of collision data across boroughs and months. The visualization presents a map of New York, segmented into its distinct boroughs. By interacting with the radio buttons to toggle between months, users gain dynamic insights into the temporal patterns of collisions throughout different neighborhoods. The color gradations on the map offer a quick and effective way to identify areas with the highest and lowest collision rates."
   ]
  },
  {
   "cell_type": "code",
   "execution_count": null,
   "id": "63f70de5",
   "metadata": {},
   "outputs": [],
   "source": [
    "gdf = gpd.read_file('test.geojson')\n",
    "boroughs = gdf['boro_code'].unique()\n",
    "months = ['June', 'July', 'August', 'September']\n",
    "all_combinations = pd.DataFrame([(boro, month) for boro in boroughs for month in months], columns=['boro_code', 'Month'])\n",
    "\n",
    "merged_combinations = all_combinations.merge(borough_monthly_crash, on=['boro_code', 'Month'], how='left')\n",
    "merged_combinations['total_crashes'].fillna(0, inplace=True)\n",
    "merged_gdf = gdf.merge(merged_combinations, on='boro_code', how='left')\n",
    "\n",
    "chart = alt.Chart(merged_gdf).mark_geoshape().encode(\n",
    "    color=alt.Color('total_crashes:Q', title='Number of Collisions', scale=alt.Scale(scheme='yellowgreenblue')),\n",
    "    tooltip=['boro_name:N', 'total_crashes:Q']\n",
    ").project(\n",
    "    type='albersUsa'\n",
    ").properties(\n",
    "    width=400,\n",
    "    height=300,\n",
    "    title=\"Number of collisions depending on the borough \"\n",
    ").add_params(\n",
    "    selection\n",
    ").transform_filter(\n",
    "    selection\n",
    ")\n",
    "\n",
    "chart"
   ]
  },
  {
   "cell_type": "markdown",
   "id": "43ed5130",
   "metadata": {},
   "source": [
    "In the next step, I decided to refine the map with further data, adding a legend in the form of a heatmap. The presentation combines both the geospatial and weather summary legend charts side by side, allowing users to comprehensively analyze collision data in relation to boroughs, months, and weather conditions."
   ]
  },
  {
   "cell_type": "code",
   "execution_count": null,
   "id": "357687dd",
   "metadata": {},
   "outputs": [],
   "source": [
    "selection2 = alt.selection_point(fields=['Month', 'weather'])\n",
    "merged_gdf = gdf.merge(borough_monthly_crash, on='boro_code', how='left')\n",
    "chart = alt.Chart(merged_gdf).mark_geoshape().encode(\n",
    "    color=alt.Color('total_crashes:Q', title='Number of Collisions', scale=alt.Scale(scheme='yellowgreenblue')),\n",
    "    tooltip=['boro_name:N', 'total_crashes:Q']\n",
    ").project(\n",
    "    type='albersUsa'\n",
    ").properties(\n",
    "    width=400,\n",
    "    height=300,\n",
    "    title=\"Number of collisions depending on the borough \"\n",
    ").add_params(\n",
    "    selection2\n",
    ").transform_filter(\n",
    "    selection2\n",
    ")\n",
    "\n",
    "legend = alt.Chart(crash_bor).mark_rect().encode(\n",
    "    alt.Y('Month:N').axis(orient='left'),\n",
    "    x='weather:O',\n",
    "    color=alt.Color('count()', scale=alt.Scale(scheme='tealblues', type='log')),\n",
    "    tooltip=['Month', 'weather', 'count()']\n",
    ").properties(\n",
    "    width=300,\n",
    "    height=300,\n",
    "    title='Weather Summary during each Month'\n",
    ").add_params(\n",
    "    selection\n",
    ")\n",
    "\n",
    "chart | legend"
   ]
  },
  {
   "cell_type": "code",
   "execution_count": null,
   "id": "031291b0",
   "metadata": {},
   "outputs": [],
   "source": [
    "merged_gdf.head()"
   ]
  },
  {
   "cell_type": "markdown",
   "id": "605a2294",
   "metadata": {},
   "source": [
    "Afterwards, I focused on a more detailed analysis, incorporating the hours during which the accidents happened in my visualizations."
   ]
  },
  {
   "cell_type": "code",
   "execution_count": null,
   "id": "fc063bfa",
   "metadata": {},
   "outputs": [],
   "source": [
    "# Group by 'BOROUGH' and 'Month' to get total crashes for each borough each month\n",
    "# this is the version with hours but it works longer\n",
    "borough_monthly_crash_h = crash_bor.groupby(['BOROUGH', 'Month', 'weather', 'Hour']).size().reset_index(name='total_crashes')\n",
    "\n",
    "borough_mapping = {\n",
    "    'Staten Island': 5,\n",
    "    'Queens': 4,\n",
    "    'Brooklyn': 3,\n",
    "    'Manhattan': 1,\n",
    "    'Bronx': 2\n",
    "}\n",
    "\n",
    "borough_monthly_crash_h['boro_code'] = borough_monthly_crash_h['BOROUGH'].map(borough_mapping)\n",
    "borough_monthly_crash_h"
   ]
  },
  {
   "cell_type": "markdown",
   "id": "404d1ee5",
   "metadata": {},
   "source": [
    "I applied a similar approach as previously. However, it was not effective, most likely due to the dataset complexity."
   ]
  },
  {
   "cell_type": "markdown",
   "id": "493dac1e",
   "metadata": {},
   "source": [
    "To enhance the visual representation of the data, I decided to try an alternative approach to answer the question. I created a bar chart showing the count of accidents by borough and weekday, along with a legend in the form of a rectangular heatmap displaying the count of observations based on weather and month. By selecting a weather condition during a specific month, the graph is updated to show the number of accidents each day of the week for all analyzed boroughs."
   ]
  },
  {
   "cell_type": "code",
   "execution_count": null,
   "id": "3bb18d2e",
   "metadata": {},
   "outputs": [],
   "source": [
    "selection2 = alt.selection_point(fields=['Month', 'weather'])\n",
    "\n",
    "chart = alt.Chart(crash_bor).mark_bar().encode(\n",
    "    x=alt.X('BOROUGH:N', title='Borough'),\n",
    "    color='BOROUGH:N',\n",
    "    y=alt.Y('count()', title='Number of Observations'),\n",
    "    column='Weekday:N'\n",
    ").properties(\n",
    "    width=200,\n",
    "    height=500\n",
    ").add_params(\n",
    "    selection2\n",
    ").transform_filter(\n",
    "    selection2\n",
    ")\n",
    "\n",
    "legend = alt.Chart(crash_bor).mark_rect().encode(\n",
    "    alt.Y('Month:N').axis(orient='left'),\n",
    "    x='weather:O',\n",
    "    color=alt.Color('count()', scale=alt.Scale(scheme='oranges', type='log')),\n",
    "    tooltip=['Month', 'weather', 'count()']\n",
    ").properties(\n",
    "    width=300,\n",
    "    height=300,\n",
    "    title='Weather Summary during each Month'\n",
    ").add_params(\n",
    "    selection2\n",
    ")\n",
    "\n",
    "chart | legend"
   ]
  },
  {
   "cell_type": "markdown",
   "id": "d568d5de",
   "metadata": {},
   "source": [
    "---\n",
    "* Question 4 <br>\n",
    "Which day had more accidents during clear days in July in Manhattan? <br>\n",
    "\n",
    "To determine the answer to this question, I prepared a visual representation of accidents by borough, months, and weather conditions. The line plot shows the count of accidents over the hours of the day. It is differentiated by borough, with distinctive colors representing different areas. The chart is designed to be responsive to the interactive selection on the heatmap, allowing users to focus on specific weather conditions and months. Using this method, I obtained valuable insights into the temporal trends influencing the occurrence of accidents."
   ]
  },
  {
   "cell_type": "code",
   "execution_count": null,
   "id": "14daf54e",
   "metadata": {},
   "outputs": [],
   "source": [
    "selection2 = alt.selection_point(fields=['Month', 'weather'])\n",
    "\n",
    "crash_bor = crash_w.dropna(subset=['BOROUGH']).copy()\n",
    "crash_bor['DayMonth'] = crash_bor['CRASH DATE'].dt.strftime('%d-%m')\n",
    "\n",
    "chart = alt.Chart(crash_bor).mark_line(point=True).encode(\n",
    "    x=alt.X('DayMonth:O', title='Hour'),\n",
    "    y=alt.Y('count()', title='Number of Accidents'),\n",
    "    color=alt.Color('BOROUGH:N', title='Area' , scale=alt.Scale(scheme='tableau10')),\n",
    "    tooltip=['BOROUGH:N', 'count()', 'DayMonth', 'weather']\n",
    ").properties(\n",
    "    width=1200,\n",
    "    height=400,\n",
    "    title='Line Plot of Accidents by Hour and Borough'\n",
    ").add_params(\n",
    "    selection2\n",
    ").transform_filter(\n",
    "    selection2\n",
    ")\n",
    "\n",
    "legend = alt.Chart(crash_bor).mark_rect().encode(\n",
    "    alt.Y('Month:N').axis(orient='left'),\n",
    "    x='weather:O',\n",
    "    color=alt.Color('count()', scale=alt.Scale(scheme='bluegreen', type='log')),\n",
    "    tooltip=['Month', 'weather', 'count()']\n",
    ").properties(\n",
    "    width=300,\n",
    "    height=300,\n",
    "    title='Weather Summary during each Month'\n",
    ").add_params(\n",
    "    selection2\n",
    ")\n",
    "\n",
    "chart | legend"
   ]
  },
  {
   "cell_type": "markdown",
   "id": "0a852528",
   "metadata": {},
   "source": [
    "In order to confirm the validity of the data presented in the chart above, I checked the values of the number of accidents in the table. The 'Count' column represents the number of unique crash dates for each combination of month and weather condition."
   ]
  },
  {
   "cell_type": "code",
   "execution_count": null,
   "id": "1644ab2e",
   "metadata": {},
   "outputs": [],
   "source": [
    "crash_bor.groupby(['Month', 'weather'])['CRASH DATE'].nunique().reset_index(name='Count')"
   ]
  },
  {
   "cell_type": "markdown",
   "id": "6b841733",
   "metadata": {},
   "source": [
    "---\n",
    "* Additional visualizations\n",
    "\n",
    "Intending to take a closer look at the analyzed dataset, I opted to create supplementary charts. <br>\n",
    "\n",
    "The chart below combines visualization featuring an interactive scatter plot and a corresponding bar chart to explore the frequency of collisions based on hourly observations. I designed it so users can interactively explore collision patterns by selecting times of day. The corresponding bar chart dynamically reflects the selected interval, providing insights into the number of collisions across boroughs and months."
   ]
  },
  {
   "cell_type": "code",
   "execution_count": null,
   "id": "83744c7b",
   "metadata": {},
   "outputs": [],
   "source": [
    "brush = alt.selection_interval()\n",
    "\n",
    "scatter_plot = alt.Chart(borough_monthly_crash_h).mark_point().encode(\n",
    "    x='Hour:Q',\n",
    "    y='count()',\n",
    ").add_params(\n",
    "    brush\n",
    ")\n",
    "\n",
    "bar_chart = alt.Chart(borough_monthly_crash_h).mark_bar().encode(\n",
    "    x='count()',\n",
    "    y='BOROUGH:N',\n",
    "    color=alt.Color('Month:N', scale=alt.Scale(scheme='tableau10')),\n",
    "    tooltip=['count()']\n",
    ").transform_filter(\n",
    "    brush\n",
    ").properties(\n",
    "    height=150,\n",
    "    width=500,\n",
    "    title='Frequency of collisions'\n",
    ")\n",
    "bar_chart & scatter_plot "
   ]
  },
  {
   "cell_type": "markdown",
   "id": "87a02217",
   "metadata": {},
   "source": [
    "Within the examined dataset, I decided to also focus on additional information regarding the number of individuals injured in accidents. My exploration centered on identifying patterns based on the day of the week. I created a bar chart to visualize the total number of injured persons in collisions across days, differentiating by borough and allowing interactive selection of vehicle types."
   ]
  },
  {
   "cell_type": "code",
   "execution_count": null,
   "id": "6fd703de",
   "metadata": {},
   "outputs": [],
   "source": [
    "weekday_order = ['Monday', 'Tuesday', 'Wednesday', 'Thursday', 'Friday', 'Saturday', 'Sunday']\n",
    "\n",
    "borough_dropdown = alt.binding_select(options=crash_w['VEHICLE TYPE CODE 1'].unique().tolist(), name='Select vehicle type')\n",
    "borough_selection = alt.selection_point(fields=['VEHICLE TYPE CODE 1'], bind=borough_dropdown)\n",
    "\n",
    "filtered_crash_w = crash_w.dropna(subset=['BOROUGH', 'Weekday', 'NUMBER OF PERSONS INJURED'])\n",
    "\n",
    "bar_chart = alt.Chart(filtered_crash_w).mark_bar().encode(\n",
    "    x=alt.X('Weekday:O', sort=weekday_order),\n",
    "    y='sum(NUMBER OF PERSONS INJURED):Q',\n",
    "    color=alt.Color('BOROUGH:N', scale=alt.Scale(scheme='tableau10')),\n",
    "    tooltip=['sum(NUMBER OF PERSONS INJURED):Q']\n",
    ").add_params(\n",
    "    borough_selection\n",
    ").transform_filter(\n",
    "    borough_selection\n",
    ").properties(\n",
    "    width=600,\n",
    "    height=400,\n",
    "    title='Total injured persons'\n",
    ")\n",
    "\n",
    "bar_chart"
   ]
  },
  {
   "cell_type": "markdown",
   "id": "c3e0ec40",
   "metadata": {},
   "source": [
    "Subsequently, I opted for a similar approach to analyze the data related to factors causing accidents. Given the substantial variety of contributing factors, I used a dropdown menu for ease of navigation and selection. The visualization presents insights into the relationships between contributing factors, boroughs, and weather conditions through an interactive bar chart."
   ]
  },
  {
   "cell_type": "code",
   "execution_count": null,
   "id": "c8650e7d",
   "metadata": {},
   "outputs": [],
   "source": [
    "category_dropdown = alt.binding_select(\n",
    "    options=crash_w['CONTRIBUTING FACTOR VEHICLE 1'].unique().tolist(),\n",
    "    name='Select contributing factor'\n",
    ")\n",
    "category_param = alt.param(\n",
    "    value='Driver Inattention/distraction',\n",
    "    bind=category_dropdown\n",
    ")\n",
    "filtered_crash_w = crash_w.dropna(subset=['CONTRIBUTING FACTOR VEHICLE 1', 'BOROUGH', 'weather'])\n",
    "category_chart = alt.Chart(filtered_crash_w).transform_filter(\n",
    "    alt.FieldEqualPredicate(field='CONTRIBUTING FACTOR VEHICLE 1', equal=category_param)\n",
    ").mark_bar().encode(\n",
    "    x='BOROUGH:N',\n",
    "    y='count():Q',\n",
    "    color=alt.Color('weather:N', scale=alt.Scale(scheme='tableau10')),\n",
    "    tooltip=['count():Q']\n",
    ").add_params(\n",
    "    category_param\n",
    ").properties(\n",
    "    width=600,\n",
    "    height=400,\n",
    "    title='Number of Collisions - CONTRIBUTING FACTOR'\n",
    ")\n",
    "\n",
    "category_chart"
   ]
  },
  {
   "cell_type": "markdown",
   "id": "e56b0f05",
   "metadata": {},
   "source": [
    "Answers to questions through the final visualization\n",
    "==\n",
    "Based on the final visualization I aim to answer the original questions of the task.\n"
   ]
  },
  {
   "cell_type": "markdown",
   "id": "aa49e832",
   "metadata": {},
   "source": [
    "* Question 1 <br>\n",
    "Which weather condition and type of vehicle were present in the majority of accidents each month? And in the combination of all the months?\n",
    "\n",
    "As depicted on the heatmap, rainy weather conditions were predominant for accidents across each month. Conversely, occurrences were least frequent during cloudy weather, with no reported events in July and September. Similarly, analyzing the vehicle types involved in accidents, taxis were implicated in the majority of incidents, while fire trucks were less commonly involved.\n",
    "\n",
    "* Question 2 <br>\n",
    "In which area and at what hour did the majority of accidents each month happen? And in the combination of all the months?\n",
    "\n",
    "The chart clearly illustrates that the majority of accidents occur in Manhattan, and this pattern persists every month. Generally, the most prevalent time for accidents across all boroughs is in the afternoon, typically around 4 p.m.\n",
    "\n",
    "* Question 3 <br>\n",
    "Which area presented the majority of taxi accidents during rainy days in June on Mondays at noon, 12am?\n",
    "\n",
    "Based on the created charts, concerning the data for taxi accidents during rainy days in June on Mondays at noon, it is clear that Manhattan experienced the highest number of incidents, demonstrating a significant majority. In comparison, Brooklyn, Queens and Bronx had similar accident counts, while Staten Island recorded no accidents under these specific conditions.\n",
    "\n",
    "* Question 4 <br>\n",
    "Which day had more accidents during clear days in July in Manhattan?\n",
    "\n",
    "Based on the line plot, analyzing the data for clear days in July in Manhattan, it is notable that there is no discernible strong pattern in the number of accidents. It is evident that July 19 stood out as the day with the highest number, totaling 20 incidents. Conversely, July 9 recorded the lowest number of accidents among clear days, with 8 occurrences.\n"
   ]
  },
  {
   "cell_type": "markdown",
   "id": "d2845fc4",
   "metadata": {},
   "source": [
    "---\n",
    "Additional questions\n",
    "==\n"
   ]
  },
  {
   "cell_type": "markdown",
   "id": "edb0f20b",
   "metadata": {},
   "source": [
    "* Question 5 <br>\n",
    "How many times weather occured each month?\n",
    "\n",
    "On the heatmap we can see that rainy weather was the most frequent condition in each of the analyzed months. June displayed a relatively balanced distribution of different weather conditions. In July, the number of clear days notably increased compared to June, and interestingly, no cloudy days were observed. August stood out as the month with the highest frequency of rainy days. September followed a pattern similar to July, although with decrease in clear days.\n",
    "\n",
    "* Question 6 <br>\n",
    "Was the number of injured people during accidents higher on weekends compared to weekdays for the different vehicles involved?\n",
    "\n",
    "Specifically, for taxis, the highest number of injuries occured on Saturdays, while Sundays show similar values to weekdays. However, this pattern is not consistently observed for ambulances and fire trucks, where the number of injured people during accidents does not exhibit a clear distinction between weekends and weekdays.\n",
    "\n",
    "* Question 7 <br>\n",
    "Is there a specific time of day when Manhattan experiences fewer accidents in comparison to other boroughs?\n",
    "\n",
    "Analyzing the chart, it is noteworthy that Manhattan consistently records the highest number of accidents throughout the day. The distinction in comparison to other boroughs becomes less pronounced in the early morning hours. In fact, around 7 am, the number of accidents in Manhattan and the Bronx appears to be similar.\n",
    "\n",
    "* Question 8 <br>\n",
    "Do drivers pay more attention on the road during bad weather in order to reduce the number of accidents?\n",
    "\n",
    "When analyzing the contributing factor of 'Driver Inattention/distraction' and considering the corresponding bar chart, it appears that drivers do not significantly increase their attention on the road during bad weather. Across all boroughs, rainy weather consistently emerges as the most frequent weather condition for accidents caused by driver inattention."
   ]
  }
 ],
 "metadata": {
  "kernelspec": {
   "display_name": "Python 3 (ipykernel)",
   "language": "python",
   "name": "python3"
  },
  "language_info": {
   "codemirror_mode": {
    "name": "ipython",
    "version": 3
   },
   "file_extension": ".py",
   "mimetype": "text/x-python",
   "name": "python",
   "nbconvert_exporter": "python",
   "pygments_lexer": "ipython3",
   "version": "3.9.16"
  }
 },
 "nbformat": 4,
 "nbformat_minor": 5
}
