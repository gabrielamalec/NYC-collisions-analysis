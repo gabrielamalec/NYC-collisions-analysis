{
 "cells": [
  {
   "cell_type": "markdown",
   "id": "3109a6f2",
   "metadata": {},
   "source": [
    "Information Visualization Project\n",
    "===\n",
    "Gabriela Malec\n",
    "---"
   ]
  },
  {
   "cell_type": "markdown",
   "id": "0b450706",
   "metadata": {},
   "source": [
    "We will work with a dataset with information about collisions in New York City.\n",
    "The Motor Vehicle Collisions crash table contains details on the crash event. Each row represents a crash event. The Motor Vehicle Collisions data tables contain information from all police reported motor vwe have detailed information about time and place of the collision, number of inehicle collisions in NYC. In our dataset jured people and contributing vehicles types.\n",
    "We are specifically interested in the summers of 2018 and 2020.\n",
    "Our goal is to create a static visualization that allows us to answer the following questions:\n",
    "* Are accidents more frequent during weekdays or weekends? Is there any\n",
    "difference between before COVID-19 and after?\n",
    "* Is there any type of vehicle more prone to participate in accidents?\n",
    "* At what time of the day are accidents more common?\n",
    "* Are there any areas with a larger number of accidents?\n",
    "* Is there a correlation between weather conditions and accidents?\n",
    "* Are the accidents along the day are caused by the same type of vehicle?\n",
    "* Does the number of pedestrians injured or dead depends on the type of vehicle?\n"
   ]
  },
  {
   "cell_type": "markdown",
   "id": "a2ff92b4",
   "metadata": {},
   "source": [
    "Data Preprocessing\n",
    "===\n",
    "The first step to accurate and informative visualization is making sure our data is valid. As the first thing after downloading we uploaded our data to Open Refine to clean it.\n",
    "\n",
    "We changed the date type to date and checked if we extracted the correct time period of our interest. Additionally, we changed all text values to Title Case and trimmed leading and trailing whitespace in all columns - we could observe major changes in the street names columns.\n",
    "\n",
    "We made an attempt to cluster and merge values in the columns containing street names and vehicle types. We discovered that our data is very unorganized and there is many different ways to express the same street or vehicle type (i.e. 'amb', 'ambu', 'fdny amb' all meaning ambulance). We focused on unifying the most frequent values significant for our visualization.\n",
    "\n",
    "One of the questions concerns the location of the accidents - we can observe many rows where the location is not available but we know the street of the accident. We use this information to retrieve the longitude and latitude for these crashes using Nominatim, a geocoding service provided by OpenStreetMap that we access through Geopy library in Python."
   ]
  },
  {
   "cell_type": "code",
   "execution_count": null,
   "id": "49556f39",
   "metadata": {},
   "outputs": [],
   "source": [
    "import altair as alt\n",
    "import pandas as pd\n",
    "import geopandas as gpd\n",
    "#from geopy.geocoders import Nominatim\n",
    "#import math\n",
    "#from geopy.extra.rate_limiter import RateLimiter"
   ]
  },
  {
   "cell_type": "code",
   "execution_count": null,
   "id": "91d02861",
   "metadata": {},
   "outputs": [],
   "source": [
    "crash = pd.read_csv('data-collisions-vehicles-new.csv')\n",
    "alt.data_transformers.disable_max_rows()\n",
    "crash.head()"
   ]
  },
  {
   "cell_type": "code",
   "execution_count": null,
   "id": "a23975c7",
   "metadata": {},
   "outputs": [],
   "source": [
    "crash['STREET'] = crash['ON STREET NAME'].fillna(crash['OFF STREET NAME'])\n",
    "crash['STREET'] = crash['STREET'].fillna(crash['CROSS STREET NAME'])\n",
    "\n",
    "for index, row in crash.iterrows():\n",
    "    if row['LATITUDE'] == 0.0:\n",
    "        crash.at[index, 'LATITUDE'] = pd.NA\n",
    "\n",
    "    if row['LONGITUDE'] == 0.0:\n",
    "        crash.at[index, 'LONGITUDE'] = pd.NA"
   ]
  },
  {
   "cell_type": "code",
   "execution_count": null,
   "id": "62d7b3bf",
   "metadata": {},
   "outputs": [],
   "source": [
    "'''\n",
    "geolocator = Nominatim(user_agent=\"my_geocoder\")\n",
    "geocode = RateLimiter(geolocator.geocode, min_delay_seconds=2)\n",
    "\n",
    "for index, street_name in enumerate(crash[\"STREET\"]):\n",
    "    if pd.isnull(crash.at[index, 'LATITUDE']) and pd.isnull(crash.at[index, 'LONGITUDE']):\n",
    "        location = geocode(f\"{street_name}, New York City\")\n",
    "        if location:\n",
    "            print(f\"{street_name}: {location.latitude}, {location.longitude}\")\n",
    "            crash.at[index, 'LATITUDE'] = location.latitude\n",
    "            crash.at[index, 'LONGITUDE'] = location.longitude\n",
    "        else:\n",
    "            print(f\"Coordinates not found for {street_name}\")\n",
    "\n",
    "print(crash)\n",
    "crash.to_csv('data-collisions-vehicles-new.csv', index=False)\n",
    "'''"
   ]
  },
  {
   "cell_type": "markdown",
   "id": "be4da9a3",
   "metadata": {},
   "source": [
    "Additionally, there was 79 crash accidents without specified location. We decided to not include them in our visualization as their contribution to understanding of the data was insignificant.\n",
    "Few locations were not retrieved properly and we corrected them by hand.\n",
    "For some crashes our code was unable to retrieve the coordinates of the accident and they are left as NA's. Even though we will not be able to display those crashes on the map in the further visualization, we will use them to show the quantity of the total crashes.\n"
   ]
  },
  {
   "cell_type": "markdown",
   "id": "1f654354",
   "metadata": {},
   "source": [
    "Design process\n",
    "====\n",
    "We approached the visualization task by analysing it question by question. At first, we decided to create separate visualizations for each question to determine the best way to answer each one of them.\n",
    "\n",
    "---\n",
    "* Question 1\n",
    "Are accidents more frequent during weekdays or weekends? Is there any\n",
    "difference between before COVID-19 and after?\n",
    "\n",
    "To answer this question, we need to consider additional data partition to before and after (we adress it as during) covid crashes.\n",
    "The first idea we got was to use the bar chart where we represent the total number of crushes during the week vs during the weekend in separate bars."
   ]
  },
  {
   "cell_type": "code",
   "execution_count": null,
   "id": "7fae7054",
   "metadata": {},
   "outputs": [],
   "source": [
    "crash['CRASH DATE'] = pd.to_datetime(crash['CRASH DATE'])\n",
    "crash['day_of_week'] = crash['CRASH DATE'].dt.day_name()\n",
    "crash['weekday'] = crash['CRASH DATE'].dt.dayofweek < 5\n",
    "crash['weekday'] = crash['weekday'].map({True: 'Weekday', False: 'Weekends'})\n",
    "\n",
    "weekday_counts = crash.groupby('weekday').size().reset_index(name='count')\n",
    "\n",
    "chart = alt.Chart(weekday_counts).mark_bar().encode(\n",
    "    x=alt.X('weekday:N', title='Day of the week', axis=alt.Axis(labelAngle=0)),\n",
    "    y=alt.Y('count:Q', title='Number of accidents'),\n",
    "    color=alt.Color('weekday:N', title='Day of the week', scale=alt.Scale(scheme='category10'), legend=alt.Legend(title=None)),\n",
    ").properties(\n",
    "    title='Accidents: weekdays and weekends',\n",
    "    width=400\n",
    ")\n",
    "\n",
    "chart"
   ]
  },
  {
   "cell_type": "markdown",
   "id": "355285e1",
   "metadata": {},
   "source": [
    "Weekday has more days than the weekend so it is natural that more accidents occur during the week. Having that in mind, we decided to compare the average number of accidents during the week vs the weekend."
   ]
  },
  {
   "cell_type": "code",
   "execution_count": null,
   "id": "621c6160",
   "metadata": {},
   "outputs": [],
   "source": [
    "crash['weekday'] = crash['CRASH DATE'].dt.dayofweek < 5\n",
    "avg_accidents = crash.groupby(['CRASH DATE', 'weekday']).size().reset_index(name='count')\n",
    "avg_accidents = avg_accidents.groupby('weekday')['count'].mean().reset_index(name='avg_count')\n",
    "avg_accidents['weekday'] = avg_accidents['weekday'].map({True: 'weekday', False: 'weekend'})\n",
    "\n",
    "chart = alt.Chart(avg_accidents).mark_bar().encode(\n",
    "    x=alt.X('weekday:N', title='Day of the week', axis=alt.Axis(labelAngle=0)),\n",
    "    y=alt.Y('avg_count:Q', title='Average number of accidents per day'),\n",
    "    color=alt.Color('weekday:N', title='Day of the week', scale=alt.Scale(scheme='category10'), legend=alt.Legend(title=None)),\n",
    "    tooltip=['weekday:N', alt.Tooltip('avg_count:Q', format='.2f')]\n",
    ").properties(\n",
    "    title='Average number of accidents per day: weekdays vs weekends',\n",
    "    width=400,\n",
    "    height=600\n",
    ")\n",
    "\n",
    "chart"
   ]
  },
  {
   "cell_type": "markdown",
   "id": "e47288e2",
   "metadata": {},
   "source": [
    "This bar already answers the first part of our question better, we can see that during the week the number of accidents is higher. The next step was to group our data to 'before covid'(2018) and 'during covid'(2020) times and repeat the plots for the grouped bar chart where the group cluster corresponds to the part of the week."
   ]
  },
  {
   "cell_type": "code",
   "execution_count": null,
   "id": "30702c67",
   "metadata": {},
   "outputs": [],
   "source": [
    "covid_start_date = pd.to_datetime('2020-03-01', utc=True)\n",
    "covid_end_date = pd.to_datetime('2023-05-05', utc=True)\n",
    "\n",
    "crash['covid_period'] = 'before_covid'\n",
    "crash.loc[(crash['CRASH DATE'] >= covid_start_date) & (crash['CRASH DATE'] <= covid_end_date), 'covid_period'] = 'during_covid'\n",
    "crash.loc[crash['CRASH DATE'] > covid_end_date, 'covid_period'] = 'after_covid'"
   ]
  },
  {
   "cell_type": "code",
   "execution_count": null,
   "id": "aaba2e95",
   "metadata": {},
   "outputs": [],
   "source": [
    "crash['day_category'] = 'weekday'\n",
    "crash.loc[crash['CRASH DATE'].dt.dayofweek >= 5, 'day_category'] = 'weekend'\n",
    "\n",
    "count_accidents_combined = crash.groupby(['day_category', 'covid_period']).size().reset_index(name='count')\n",
    "\n",
    "chart = alt.Chart(count_accidents_combined).mark_bar().encode(\n",
    "    x=alt.X('covid_period:N', title=None, axis=alt.Axis(labelAngle=0)),\n",
    "    y=alt.Y('count:Q', title='Number of Accidents'),\n",
    "    color=alt.Color('covid_period:N', title='Time period', scale=alt.Scale(scheme='category10')),\n",
    "    column=alt.Column('day_category:N', title=None, header=alt.Header(labels=True)),\n",
    "    tooltip=['day_category:N', 'covid_period:N', 'count:Q']\n",
    ").properties(\n",
    "    title='Accidents: weekdays vs weekends - before and during covid',\n",
    "    width=120\n",
    ")\n",
    "\n",
    "chart"
   ]
  },
  {
   "cell_type": "code",
   "execution_count": null,
   "id": "0b35061c",
   "metadata": {},
   "outputs": [],
   "source": [
    "count_accidents_combined = crash.groupby(['covid_period', 'day_category', 'CRASH DATE']).size().reset_index(name='count')\n",
    "avg_accidents_per_day = count_accidents_combined.groupby(['covid_period', 'day_category']).mean(numeric_only=False)['count'].reset_index(name='avg_accidents_per_day')\n",
    "\n",
    "chart = alt.Chart(avg_accidents_per_day).mark_bar().encode(\n",
    "    x=alt.X('covid_period:N', title='Period', axis=alt.Axis(labelAngle=0)),\n",
    "    y=alt.Y('avg_accidents_per_day:Q', title='Average accidents per day'),\n",
    "    color=alt.Color('covid_period:N', title='Time period', scale=alt.Scale(scheme='category10')),\n",
    "    column=alt.Column('day_category:N', title=None, header=alt.Header(labels=True)),\n",
    "    tooltip=['day_category:N', 'covid_period:N', 'avg_accidents_per_day:Q']\n",
    ").properties(\n",
    "    title='Average accidents per day: weekdays vs weekends before and during COVID',\n",
    "    width=120\n",
    ")\n",
    "\n",
    "chart"
   ]
  },
  {
   "cell_type": "markdown",
   "id": "f5d4b4f0",
   "metadata": {},
   "source": [
    "To see the ratio of average number of accidents happening during the week vs the weekend we plot a normalized stacked bars separately for two time periods - it helps us determine in very easy intuitive way when the accidents are more frequent and easily compare how the ratio changes between the time periods. The x-axis represents two periods in time, the y-axis shows the percentage of accidents per day, stacked to indicate the proportion between weekdays and weekends. The color scheme distinguishes between weekday and weekend categories. We need to be aware though that this bar takes a lot of space but we have decided that it is informative enough to include it in the final visualization as it gives us the best possibility of comparision between and within groups."
   ]
  },
  {
   "cell_type": "code",
   "execution_count": null,
   "id": "2a0b3df0",
   "metadata": {},
   "outputs": [],
   "source": [
    "count_accidents_combined = crash.groupby(['covid_period', 'day_category', 'CRASH DATE']).size().reset_index(name='count')\n",
    "avg_accidents_per_day = count_accidents_combined.groupby(['covid_period', 'day_category']).mean(numeric_only=False)['count'].reset_index(name='avg_accidents_per_day')\n",
    "avg_accidents_per_day['percentage'] = avg_accidents_per_day.groupby('covid_period')['avg_accidents_per_day'].transform(lambda x: x / x.sum() * 100)\n",
    "\n",
    "chart = alt.Chart(avg_accidents_per_day).mark_bar().encode(\n",
    "    x=alt.X('covid_period:N', title='Period', axis=alt.Axis(labelAngle=0)),\n",
    "    y=alt.Y('percentage:Q', title='Percentage of Accidents per Day', stack='normalize'),\n",
    "    color=alt.Color('day_category:N', title='Day Category', scale=alt.Scale(scheme='blues'))\n",
    ").properties(\n",
    "    title='Average accidents per day: weekdays vs weekends - before and during COVID',\n",
    "    width=300,\n",
    "    height=600\n",
    ")\n",
    "\n",
    "chart"
   ]
  },
  {
   "cell_type": "markdown",
   "id": "18300395",
   "metadata": {},
   "source": [
    "Additionaly to this question we wanted to have a closer look at each day of the week separately. We decide to plot a grouped bar chart where we present the total number of accidents for each of the days separately before and after covid. The x-axis represents two time periods, the y-axis indicates the count of collisions, and the color distinguishes between the periods, using a blue color scheme. The chart is faceted by the days of the week, providing a clear comparison of accident counts across different weekdays and time periods. The columns are sorted from Monday to Sunday for better readability."
   ]
  },
  {
   "cell_type": "code",
   "execution_count": null,
   "id": "a521fdd4",
   "metadata": {},
   "outputs": [],
   "source": [
    "crash['CRASH DATE'] = pd.to_datetime(crash['CRASH DATE'], format='%Y-%m-%dT%H:%M:%SZ')\n",
    "crash['Weekday'] = crash['CRASH DATE'].dt.day_name()\n",
    "\n",
    "crash_count = crash.groupby(['covid_period', 'Weekday']).size().reset_index(name='crash_count')\n",
    "\n",
    "q1 = alt.Chart(crash_count).mark_bar().encode(\n",
    "    x=alt.X('covid_period:N', title='Period', axis=alt.Axis(labelAngle=-45)),\n",
    "    y=alt.Y('crash_count:Q', title='Collisions Count'),\n",
    "    color=alt.Color('covid_period:N', title='Covid period',scale=alt.Scale(scheme='blues')),\n",
    "    column=alt.Column('Weekday:N', title='Day of Week', sort=['Monday', 'Tuesday', 'Wednesday', 'Thursday', 'Friday', 'Saturday', 'Sunday'])\n",
    ").properties(\n",
    "    width=alt.Step(40),\n",
    "    height=400,\n",
    "    title='Number of Accidents for Each Weekday'\n",
    ").configure_view(stroke='transparent')\n",
    "q1"
   ]
  },
  {
   "cell_type": "markdown",
   "id": "a6bf011a",
   "metadata": {},
   "source": [
    "As the similar alternative we considered plotting a grouped bar chart where we present the average number of accidents for each of the days separately before and after covid.\n",
    "To not lose the information about general average number of accidents during the weekdays and weekends we could plot four vertical bars for weekdays and weekends before and after covid.\n",
    "\n",
    "Another approach we wanted to try when visualizing number of accidents was a line plot with distinguished lines for weekday and weekend. First we plotted all data on one grid.\n",
    "\n",
    "The x-axis represents the date, while the y-axis shows the count of crashes. The line color distinguishes between day categories (weekdays and weekends), and the line style indicates the COVID-19 period. The red dashed line marks the start of the COVID-19 period, providing a visual reference point.\n",
    "\n",
    " Because of the large blank space between the time periods in our data we decided to plot the time periods separately next to each other, making it easier to compare them. Representing data in this way gives us a good insight into the trends and how the number of collisions was changing over time before and after covid (within the groups). However, since it was not an original question we decided to not include it in our final design."
   ]
  },
  {
   "cell_type": "code",
   "execution_count": null,
   "id": "b95003aa",
   "metadata": {},
   "outputs": [],
   "source": [
    "chart = alt.Chart(count_accidents_combined).mark_line().encode(\n",
    "    x=alt.X('CRASH DATE:T', title='Date'),\n",
    "    y=alt.Y('count:Q', title='Number of Crashes'),\n",
    "    color=alt.Color('day_category:N', title='Day Category', scale=alt.Scale(scheme='category10'), legend=alt.Legend(title='Day category')),\n",
    "    strokeDash=alt.StrokeDash('covid_period:N', title='COVID Period', scale=alt.Scale(domain=['before_covid', 'during_covid'], range=[[0], []]), legend=None),\n",
    "    tooltip=['CRASH DATE:T', 'count:Q', 'day_category:N', 'covid_period:N']\n",
    ").properties(\n",
    "    title='Number of crashes by day before and during COVID-19',\n",
    "    width=800\n",
    ")\n",
    "\n",
    "rule = alt.Chart(pd.DataFrame({'start': [covid_start_date]})).mark_rule(color='red', strokeDash=[5]).encode(\n",
    "    x='start:T',\n",
    "    tooltip=['start:T']\n",
    ")\n",
    "\n",
    "label = alt.Chart(pd.DataFrame({'start': [covid_start_date], 'label': ['Start of COVID-19']})).mark_text(\n",
    "    align='left',\n",
    "    dx=5,\n",
    "    dy=20,\n",
    "    fontSize=12\n",
    ").encode(\n",
    "    x='start:T',\n",
    "    y=alt.value(0),\n",
    "    text='label'\n",
    ")\n",
    "\n",
    "combined_chart = chart + rule + label\n",
    "combined_chart"
   ]
  },
  {
   "cell_type": "code",
   "execution_count": null,
   "id": "02ab94ed",
   "metadata": {},
   "outputs": [],
   "source": [
    "before_covid_data = count_accidents_combined[count_accidents_combined['covid_period'] == 'before_covid']\n",
    "during_covid_data = count_accidents_combined[count_accidents_combined['covid_period'] == 'during_covid']\n",
    "\n",
    "y_domain = [0, max(count_accidents_combined['count'])]\n",
    "\n",
    "chart_before_covid = alt.Chart(before_covid_data).mark_line().encode(\n",
    "    x=alt.X('CRASH DATE:T', title='Date'),\n",
    "    y=alt.Y('count:Q', title='Number of Crashes', scale=alt.Scale(domain=y_domain)),\n",
    "    color=alt.Color('day_category:N', title='Day category', scale=alt.Scale(scheme='blues')),\n",
    "    tooltip=['CRASH DATE:T', 'count:Q', 'day_category:N']\n",
    ").properties(\n",
    "    title=' Number of crashes by day before COVID-19',\n",
    "    width=400\n",
    ")\n",
    "\n",
    "chart_during_covid = alt.Chart(during_covid_data).mark_line().encode(\n",
    "    x=alt.X('CRASH DATE:T', title='Date'),\n",
    "    y=alt.Y('count:Q', title='Number of Crashes', scale=alt.Scale(domain=y_domain)),\n",
    "    color=alt.Color('day_category:N', title='Day category', scale=alt.Scale(scheme='category10')),\n",
    "    tooltip=['CRASH DATE:T', 'count:Q', 'day_category:N']\n",
    ").properties(\n",
    "    title='Number of crashes by day during COVID-19',\n",
    "    width=400\n",
    ")\n",
    "\n",
    "combined_chart = alt.hconcat(chart_before_covid, chart_during_covid)\n",
    "combined_chart"
   ]
  },
  {
   "cell_type": "markdown",
   "id": "2851052e",
   "metadata": {},
   "source": [
    "---\n",
    "* Question 2 Is there any type of vehicle more prone to participate in accidents?\n",
    "\n",
    "In order to answer the other question, we have to take a closer look at our columns containing information about vehicle types participating in the accidents. We see there is over 200 different vehicle types and since it would be very difficult to provide detailed information about all of them in our visualization, we decide to focus on the most significant vehicle types and treat the rest of types as the category 'others'.\n",
    "\n",
    "We believe that the most adequate way to represent this data would be through bar chart where we encode in the height all the times where the specified vehicle type was the participant of the accident. The alrernative we considered was an enclosure diagram but for the consistency of our visualization we decided to choose the bar chart.\n",
    "\n",
    "We hesitated if the minority of the vehicle types should be represented on the plot, but this count does not provide valuable information for our question as we want to focus on the most popular vehicle types. Additionaly, similarly to NA's, category 'others' in the middle of the plot does not look professional. We tried to move 'others' to tail by raising the number of distinguished vehicles. Unfortunetely it was unsuccesful attempt and it did not solve the problem of the category being in the middle of the chart, not at the end as the smallest value.\n",
    "In the end, we decided to not include it in the barchart."
   ]
  },
  {
   "cell_type": "code",
   "execution_count": null,
   "id": "bf91ba0f",
   "metadata": {},
   "outputs": [],
   "source": [
    "#with other\n",
    "vehicle_columns = ['VEHICLE TYPE CODE 1', 'VEHICLE TYPE CODE 2', 'VEHICLE TYPE CODE 3', 'VEHICLE TYPE CODE 4', 'VEHICLE TYPE CODE 5']\n",
    "\n",
    "crash_long = pd.melt(crash, value_vars=vehicle_columns)\n",
    "\n",
    "crash_long = crash_long.dropna(subset=['value'])\n",
    "\n",
    "vehicle_counts = crash_long['value'].value_counts().reset_index()\n",
    "vehicle_counts.columns = ['Vehicle Type', 'Count']\n",
    "\n",
    "top_vehicle_types = vehicle_counts.head(10)['Vehicle Type'].tolist() #focusing on 10 most popular vehicle types\n",
    "vehicle_counts['Vehicle Type'] = vehicle_counts['Vehicle Type'].where(vehicle_counts['Vehicle Type'].isin(top_vehicle_types), 'Other')\n",
    "\n",
    "vehicle_counts = vehicle_counts.groupby('Vehicle Type')['Count'].sum().reset_index()\n",
    "\n",
    "bar_chart = alt.Chart(vehicle_counts).mark_bar().encode(\n",
    "    x=alt.X('Vehicle Type:N', title='Vehicle Type', axis=alt.Axis(labelAngle=-45), sort='-y'),\n",
    "    y=alt.Y('Count:Q', title='Count')\n",
    ").properties(\n",
    "    title='Number of Accidents by Type of Vehicle',\n",
    "    width=500\n",
    ")\n",
    "\n",
    "bar_chart"
   ]
  },
  {
   "cell_type": "code",
   "execution_count": null,
   "id": "c816fef4",
   "metadata": {},
   "outputs": [],
   "source": [
    "#Without other 1\n",
    "\n",
    "vehicle_columns = ['VEHICLE TYPE CODE 1', 'VEHICLE TYPE CODE 2', 'VEHICLE TYPE CODE 3', 'VEHICLE TYPE CODE 4', 'VEHICLE TYPE CODE 5']\n",
    "\n",
    "crash_long = pd.melt(crash, value_vars=vehicle_columns)\n",
    "\n",
    "crash_long = crash_long.dropna(subset=['value'])\n",
    "\n",
    "vehicle_counts = crash_long['value'].value_counts().reset_index()\n",
    "vehicle_counts.columns = ['Vehicle Type', 'Count']\n",
    "\n",
    "top_vehicle_types = vehicle_counts.head(7)['Vehicle Type'].tolist()  # focusing on 10 most popular vehicle types\n",
    "vehicle_counts['Vehicle Type'] = vehicle_counts['Vehicle Type'].where(vehicle_counts['Vehicle Type'].isin(top_vehicle_types), 'Other')\n",
    "\n",
    "vehicle_counts_filtered = vehicle_counts[vehicle_counts['Vehicle Type'] != 'Other']\n",
    "\n",
    "bar_chart = alt.Chart(vehicle_counts_filtered).mark_bar().encode(\n",
    "    x=alt.X('Vehicle Type:N', title='Vehicle Type', axis=alt.Axis(labelAngle=-45), sort='-y'),\n",
    "    y=alt.Y('Count:Q', title='Count')\n",
    ").properties(\n",
    "    title='Number of Accidents by Type of Vehicle',\n",
    "    width=600\n",
    ")\n",
    "\n",
    "bar_chart"
   ]
  },
  {
   "cell_type": "markdown",
   "id": "7b19e32d",
   "metadata": {},
   "source": [
    "The plot we included in the final visualization represents the number of accidents for vehicle types with counts exceeding 2500. The x-axis displays different vehicle types, and the y-axis indicates the count of accidents. The bars are sorted in descending order, providing a clear comparison of accident frequencies across various vehicle types. This visualization helps identify the most common vehicle types involved in accidents, focusing on those with higher occurrence rates."
   ]
  },
  {
   "cell_type": "code",
   "execution_count": null,
   "id": "a543449b",
   "metadata": {},
   "outputs": [],
   "source": [
    "#without other 2\n",
    "\n",
    "crash['VEHICLE TYPE CODE 1'] = crash['VEHICLE TYPE CODE 1'].astype(str)\n",
    "crash['VEHICLE TYPE CODE 2'] = crash['VEHICLE TYPE CODE 2'].astype(str)\n",
    "crash['VEHICLE TYPE CODE 3'] = crash['VEHICLE TYPE CODE 3'].astype(str)\n",
    "crash['VEHICLE TYPE CODE 4'] = crash['VEHICLE TYPE CODE 4'].astype(str)\n",
    "crash['VEHICLE TYPE CODE 5'] = crash['VEHICLE TYPE CODE 5'].astype(str)\n",
    "\n",
    "crash_long = pd.melt(crash, value_vars=['VEHICLE TYPE CODE 1', 'VEHICLE TYPE CODE 2', 'VEHICLE TYPE CODE 3', 'VEHICLE TYPE CODE 4', 'VEHICLE TYPE CODE 5'])\n",
    "\n",
    "crash_long = crash_long.dropna(subset=['value'])\n",
    "\n",
    "vehicle_counts = crash_long['value'].value_counts().reset_index()\n",
    "vehicle_counts.columns = ['Vehicle Type', 'Count']\n",
    "\n",
    "filtered_data = vehicle_counts[(vehicle_counts['Count'] >= 2500) & (vehicle_counts['Vehicle Type'] != 'nan')]\n",
    "\n",
    "q2 = alt.Chart(filtered_data).mark_bar().encode(\n",
    "    x=alt.X('Vehicle Type:N', title='Vehicle Type', axis=alt.Axis(labelAngle=-45), sort='-y'),\n",
    "    y=alt.Y('Count:Q', title='Count')\n",
    ").properties(\n",
    "    title='Number of Accidents (over 2500) by Type of Vehicle'\n",
    ")\n",
    "\n",
    "q2"
   ]
  },
  {
   "cell_type": "markdown",
   "id": "9b19f3ed",
   "metadata": {},
   "source": [
    "---\n",
    "* Question 3\n",
    "At what time of the day are accidents more common?\n",
    "\n",
    "We decided that the line chart is the best way to answer this question. The data points are representing the frequency of accidents at different hours of the day. The X-axis displays the hours, and the Y-axis shows the count of accidents."
   ]
  },
  {
   "cell_type": "code",
   "execution_count": null,
   "id": "107d37d2",
   "metadata": {},
   "outputs": [],
   "source": [
    "hourly_vehicle_data = crash[['CRASH TIME']].copy()\n",
    "\n",
    "hourly_vehicle_data['Hour'] = pd.to_datetime(hourly_vehicle_data['CRASH TIME'], format='%H:%M', errors='coerce').dt.hour\n",
    "\n",
    "q3 = alt.Chart(hourly_vehicle_data\n",
    ").mark_line(point=True).encode(\n",
    "    x=alt.X('Hour', title='Crash Time'),\n",
    "    y=alt.Y('count():Q', title='Count')\n",
    ").properties(\n",
    "    width=600,\n",
    "    height=400,\n",
    "    title='Accident frequency by time of day'\n",
    ")\n",
    "\n",
    "q3"
   ]
  },
  {
   "cell_type": "markdown",
   "id": "cc34affd",
   "metadata": {},
   "source": [
    "Additionally, as we will see later, we have one more question (Question 6) about the number of crashes throughout the day, this time with distinguishing the model of the vehicle. To save space and to be able to compare vehicle-type specified number of accidents with all accidents, we decided to plot them together. We consider column 'Vehicle Type Code 1' as the type of a car that caused the accident - this time we do not use the cumulative count of all columns containing vehicle types to not outnumber the total count of collisions.\n",
    "To include both separate values and the total count in the plot legend, we combine them into one dataframe.\n",
    "\n",
    "The resulting line chart shows the trend of accidents throughout the day, with different lines representing various vehicle types and the total. The points on the lines indicate the actual counts at specific hours.\n",
    "The legend on the right provides a color-coded key for different vehicle types, sorted based on their total counts."
   ]
  },
  {
   "cell_type": "code",
   "execution_count": null,
   "id": "e0a971da",
   "metadata": {},
   "outputs": [],
   "source": [
    "hourly_vehicle_data = crash[['CRASH TIME', 'VEHICLE TYPE CODE 1']].copy()\n",
    "\n",
    "hourly_vehicle_data['Hour'] = pd.to_datetime(hourly_vehicle_data['CRASH TIME'], format='%H:%M', errors='coerce').dt.hour\n",
    "\n",
    "top_5_vehicle_types = hourly_vehicle_data['VEHICLE TYPE CODE 1'].value_counts().nlargest(5).index  # 5 most popular car types\n",
    "\n",
    "hourly_vehicle_data.loc[~hourly_vehicle_data['VEHICLE TYPE CODE 1'].isin(top_5_vehicle_types), 'VEHICLE TYPE CODE 1'] = 'Other'\n",
    "\n",
    "grouped_data = hourly_vehicle_data.groupby(['Hour', 'VEHICLE TYPE CODE 1']).size().reset_index(name='Count')\n",
    "\n",
    "total_crashes = hourly_vehicle_data.groupby('Hour').size().reset_index(name='Count')\n",
    "total_crashes['VEHICLE TYPE CODE 1'] = 'Total'\n",
    "\n",
    "combined_data = pd.concat([grouped_data, total_crashes], ignore_index=True)\n",
    "\n",
    "combined_data_filtered = combined_data[combined_data['VEHICLE TYPE CODE 1'] != 'Other']\n",
    "\n",
    "sort_order = combined_data_filtered.groupby('VEHICLE TYPE CODE 1')['Count'].sum().sort_values(ascending=False).index\n",
    "\n",
    "chart = alt.Chart(combined_data_filtered).mark_line(point=True).encode(\n",
    "    x=alt.X('Hour:O', title='Hour'),\n",
    "    y=alt.Y('Count:Q', title='Number of Accidents'),\n",
    "    color=alt.Color('VEHICLE TYPE CODE 1:N', title='Collision Categories' , scale=alt.Scale(scheme='tableau10', domain=list(sort_order)))\n",
    ").properties(\n",
    "    width=750,\n",
    "    height=550,\n",
    "    title='Line Plot of Accidents by Hour and Vehicle Type'\n",
    ")\n",
    "\n",
    "chart"
   ]
  },
  {
   "cell_type": "markdown",
   "id": "4bbbe762",
   "metadata": {},
   "source": [
    "---\n",
    "* Question 4\n",
    " Are there any areas with a larger number of accidents?\n",
    "\n",
    " To determine the answer to this question, we wanted to use the available data and plot the map of NYC with spots of collisions. To achieve that, we prepared a background map using the GeoJSON data, projecting it with the Albers USA method. We created a layered visualization. This results in a map where the background represents geographical boundaries, and the points indicate specific locations on the map, representing collisions in New York City.\n",
    " Additionally we wanted to add color encoding for the number of people injured to determine if any areas are more dangerous."
   ]
  },
  {
   "cell_type": "markdown",
   "id": "eccc3d6f",
   "metadata": {},
   "source": [
    "From the map we see that collision locations are in general uniformly distributed within the regions and since in the most of the accidents nobody got injured there is no need for the additional color encoding.\n",
    "\n",
    "Instead, we create the chorolpleth map with the regions based on the New York boroughs. We encode in the color of the borough the total number of collision that occured there in order to determine the neighbourhood with the most frequent accidents.\n"
   ]
  },
  {
   "cell_type": "code",
   "execution_count": null,
   "id": "2ade3e4e",
   "metadata": {},
   "outputs": [],
   "source": [
    "borough_crash = crash.groupby('BOROUGH').size().reset_index(name='total_crashes')\n",
    "\n",
    "borough_mapping = {\n",
    "    'Staten Island': 5,\n",
    "    'Queens': 4,\n",
    "    'Brooklyn': 3,\n",
    "    'Manhattan': 1,\n",
    "    'Bronx': 2\n",
    "}\n",
    "\n",
    "borough_crash['boro_code'] = borough_crash['BOROUGH'].map(borough_mapping)"
   ]
  },
  {
   "cell_type": "code",
   "execution_count": null,
   "id": "92d540a2",
   "metadata": {},
   "outputs": [],
   "source": [
    "gdf = gpd.read_file('test.geojson')\n",
    "merged_gdf = gdf.merge(borough_crash, on='boro_code', how='left')\n",
    "chart = alt.Chart(merged_gdf).mark_geoshape().encode(\n",
    "    color=alt.Color('total_crashes:Q', title='Number of Collisions', scale=alt.Scale(scheme='yellowgreenblue')),\n",
    "    tooltip=['boro_name:N', 'total_crashes:Q']\n",
    ").project(\n",
    "    type='albersUsa'\n",
    ").properties(\n",
    "    width=400,\n",
    "    height=300,\n",
    "    title=\"Number of collisions depending on the borough \"\n",
    ")\n",
    "chart"
   ]
  },
  {
   "cell_type": "markdown",
   "id": "38f79eca",
   "metadata": {},
   "source": [
    "For the better understanding of the data and to validate the information the choropleth map gives us we plotted bar plots of number of accidents for district of New York. We came to the conclusion that it does not give us much more information than the map, the only difference is the way of encoding the number of accidents - instead of using color in the bar plot we use height, which is more intuitive but map gives us a better idea of the actual locations of the accidents."
   ]
  },
  {
   "cell_type": "code",
   "execution_count": null,
   "id": "af444339",
   "metadata": {},
   "outputs": [],
   "source": [
    "crashes_boro = merged_gdf.sort_values(by='total_crashes', ascending=False)\n",
    "\n",
    "chart = alt.Chart(crashes_boro).mark_bar().encode(\n",
    "    alt.X('boro_name:N', title='Borough', sort='-y'),\n",
    "    alt.Y('total_crashes:Q', title='Number of crashes'),\n",
    "    color=alt.Color('total_crashes:Q', legend=None),\n",
    "    tooltip=['boro_name:N', 'total_crashes:Q']\n",
    ").properties(\n",
    "    width=500,\n",
    "    height=300,\n",
    "    title=\"Collisions in boroughs\"\n",
    ")\n",
    "\n",
    "chart"
   ]
  },
  {
   "cell_type": "markdown",
   "id": "b0a67de8",
   "metadata": {},
   "source": [
    "For the last experiment we tried to combine the number of accidents with the time of the accident to see if all districts follow the same trend in time.\n",
    "\n",
    "We create a streamgraph that visually represents the total number of collisions over time, with each colored area representing a different borough.\n",
    "The areas are stacked on top of each other, allowing us to see the overall trend of collisions while also understanding the contribution of each borough to the total count.\n",
    "Hovering over the graph provides detailed information about the date, total crashes, and the specific borough at that point in time.\n",
    "As the trends all the boroughs seem to be quite comparable, we decided to not include the plot in the final visualization because it does not provide any novel information and keep only the choropleth map."
   ]
  },
  {
   "cell_type": "code",
   "execution_count": null,
   "id": "8d7a20d3",
   "metadata": {},
   "outputs": [],
   "source": [
    "crash['crash_date'] = pd.to_datetime(crash['CRASH DATE'])\n",
    "\n",
    "# data only before covid\n",
    "crash_before_covid = crash[crash['crash_date'] < '2020-01-30']\n",
    "total_accidents_borough_df = crash_before_covid.groupby(['crash_date', 'BOROUGH']).size().reset_index(name='total_crashes')\n",
    "\n",
    "streamgraph = alt.Chart(total_accidents_borough_df).mark_area().encode(\n",
    "    x='crash_date:T',\n",
    "    y='total_crashes:Q',\n",
    "    color='BOROUGH:N',\n",
    "    order='BOROUGH:N',\n",
    "    tooltip=['crash_date:T', 'total_crashes:Q', 'BOROUGH:N']\n",
    ").properties(\n",
    "    width=600,\n",
    "    height=400,\n",
    "    title=\"Total collisons over time\"\n",
    ")\n",
    "\n",
    "streamgraph"
   ]
  },
  {
   "cell_type": "markdown",
   "id": "7651fe43",
   "metadata": {},
   "source": [
    "---\n",
    "* Question 5\n",
    "Is there a correlation between weather conditions and accidents?\n",
    "\n",
    "To answer the question about weather, we need to retrieve additional data about the wather in the New York City during the time period of our interest. We collect our data from the website https://www.weather.gov/okx/."
   ]
  },
  {
   "cell_type": "code",
   "execution_count": null,
   "id": "13214b91",
   "metadata": {},
   "outputs": [],
   "source": [
    "crash['CRASH DATE'] = pd.to_datetime(crash['CRASH DATE'], utc = True)"
   ]
  },
  {
   "cell_type": "code",
   "execution_count": null,
   "id": "4420ad14",
   "metadata": {},
   "outputs": [],
   "source": [
    "weather = pd.read_csv('weather.csv')\n",
    "weather['DATE'] = pd.to_datetime(weather['DATE'], utc = True)\n",
    "weather = weather[weather['NAME'] == 'NY CITY CENTRAL PARK, NY US']\n",
    "columns_remove = ['DAPR', 'DASF', 'MDPR', 'MDSF', 'PGTM', 'PSUN', 'TAVG', 'TSUN', 'WDF2', 'WDF5', 'WESD', 'WESF', 'WSF2', 'WSF5',\n",
    "                  'WT01', 'WT02', 'WT03', 'WT04', 'WT05', 'WT06', 'WT08', 'WT09', 'WT11', 'TOBS']\n",
    "for column in columns_remove:\n",
    "    del weather[column]\n",
    "\n",
    "weather"
   ]
  },
  {
   "cell_type": "code",
   "execution_count": null,
   "id": "22849b91",
   "metadata": {},
   "outputs": [],
   "source": [
    "crashes_day = crash.groupby('CRASH DATE').size().reset_index(name='crashes_count')\n",
    "merged_data = pd.merge(crashes_day, weather, left_on='CRASH DATE', right_on='DATE', how='inner')\n",
    "merged_data['TAVG'] = (merged_data['TMAX'] + merged_data['TMIN']) / 2\n",
    "merged_data"
   ]
  },
  {
   "cell_type": "code",
   "execution_count": null,
   "id": "1af6a2df",
   "metadata": {},
   "outputs": [],
   "source": [
    "crashes_day = crash.groupby('CRASH DATE').size().reset_index(name='crashes_count')\n",
    "merged_data = pd.merge(crashes_day, weather, left_on='CRASH DATE', right_on='DATE', how='inner')\n",
    "merged_data['TAVG'] = (merged_data['TMAX'] + merged_data['TMIN']) / 2\n",
    "merged_data"
   ]
  },
  {
   "cell_type": "markdown",
   "id": "29f36031",
   "metadata": {},
   "source": [
    "After extracting the parts of the dataset that we considered significant for our question, we decided to create a heatmap to see if there is any correlation between weather conditions and collisions.\n",
    "The resulting visualization is a correlation heatmap where the color intensity represents the strength and direction of the correlation between pairs of variables. Positive correlations are typically displayed in one color, while negative correlations are displayed in another color. The text annotations provide exact correlation values, and the color of the text indicates whether the correlation is above or below 0.5.\n",
    "\n",
    "\n",
    "To our surprise, we cannot observe ant signicant connection. To safe space, we decided to keep it as the only visualization that gives us information about the weather in the final design."
   ]
  },
  {
   "cell_type": "code",
   "execution_count": null,
   "id": "3beee5bd",
   "metadata": {},
   "outputs": [],
   "source": [
    "selected_columns = ['PRCP', 'TAVG', 'AWND', 'crashes_count']\n",
    "selected_data = merged_data[selected_columns]\n",
    "\n",
    "Correlation_matrix = selected_data.corr()\n",
    "corr_df = Correlation_matrix.stack().reset_index(name='Correlation')\n",
    "corr_df.columns = ['Variable-1', 'Variable-2', 'Correlation']\n",
    "corr_df['Correlation'] = corr_df['Correlation'].round(2)\n",
    "\n",
    "variable_names_mapping = {\n",
    "    'PRCP': 'Precipitation',\n",
    "    'TAVG': 'Temperature',\n",
    "    'AWND': 'Wind',\n",
    "    'crashes_count': 'Collisions'\n",
    "}\n",
    "\n",
    "corr_df['Variable-1'] = corr_df['Variable-1'].map(variable_names_mapping)\n",
    "corr_df['Variable-2'] = corr_df['Variable-2'].map(variable_names_mapping)\n",
    "\n",
    "heatmap = alt.Chart(corr_df).mark_rect().encode(\n",
    "    x='Variable-1:N',\n",
    "    y='Variable-2:N',\n",
    "    color='Correlation:Q',\n",
    "    tooltip=['Variable-1:N', 'Variable-2:N', 'Correlation:Q']\n",
    ").properties(\n",
    "    width=400,\n",
    "    height=400,\n",
    "    title='Correlation Heatmap'\n",
    ")\n",
    "\n",
    "text = alt.Chart(corr_df).mark_text(baseline='middle').encode(\n",
    "    x='Variable-1:N',\n",
    "    y='Variable-2:N',\n",
    "    text='Correlation:Q',\n",
    "    color=alt.condition(\n",
    "        'datum.Correlation > 0.5',\n",
    "        alt.value('white'),\n",
    "        alt.value('black')\n",
    "    )\n",
    ")\n",
    "\n",
    "text = text.encode(\n",
    "    text=alt.Text('Correlation:Q', format='.2f'),\n",
    "    tooltip=['Variable-1:N', 'Variable-2:N', 'Correlation:Q']\n",
    ")\n",
    "\n",
    "combined_chart = heatmap + text\n",
    "combined_chart"
   ]
  },
  {
   "cell_type": "markdown",
   "id": "8965e2b5",
   "metadata": {},
   "source": [
    "To check the validity of the information from the correlation matrix, we still decided to check if we can see any trends in the scatterplots of weather conditions vs crashes count.\n",
    "We create a set of scatterplots, each showing the relationship between the number of collisions and one of the selected weather variables. Each point on the scatter plot represents a specific date.\n",
    "As suspected, we cannot identify any significant connections."
   ]
  },
  {
   "cell_type": "code",
   "execution_count": null,
   "id": "81974469",
   "metadata": {},
   "outputs": [],
   "source": [
    "variables = ['PRCP', 'TAVG', 'AWND']\n",
    "charts = []\n",
    "\n",
    "for variable in variables:\n",
    "    chart = alt.Chart(merged_data).mark_circle().encode(\n",
    "        x='crashes_count:Q',\n",
    "        y=f'{variable}:Q',\n",
    "        tooltip=['CRASH DATE:T', f'{variable}:Q', 'crashes_count:Q']\n",
    "    ).properties(\n",
    "        title=f'Correlation between {variable} and number of collisions'\n",
    "    )\n",
    "\n",
    "    charts.append(chart)\n",
    "\n",
    "combined_chart = alt.hconcat(*charts)\n",
    "\n",
    "combined_chart"
   ]
  },
  {
   "cell_type": "markdown",
   "id": "a7c9ac10",
   "metadata": {},
   "source": [
    "In this plot we made an attempt to encode information about wind, rain and total crashes count.\n",
    "\n",
    "The resulting scatter plot visually represents each data point as a circle on a graph.\n",
    "The X-axis shows the number of crashes, the Y-axis shows the wind speed, and the size of each circle corresponds to the precipitation.\n",
    "We can hover over data points to view additional information in the tooltip.\n",
    "\n",
    "As in the case of other weather related plots, we did not find it informative enough to include it in the final visualization."
   ]
  },
  {
   "cell_type": "code",
   "execution_count": null,
   "id": "d6f3ca14",
   "metadata": {},
   "outputs": [],
   "source": [
    "chart = alt.Chart(merged_data).mark_circle().encode(\n",
    "    x='crashes_count:Q',\n",
    "    y='AWND:Q',\n",
    "    size='PRCP:Q',\n",
    "    tooltip=['crash_date:T', 'AWND:Q', 'PRCP:Q', 'crashes_count:Q']\n",
    ").properties(\n",
    "    title='Weather conditions and number of crashes'\n",
    ")\n",
    "chart"
   ]
  },
  {
   "cell_type": "markdown",
   "id": "6d32b117",
   "metadata": {},
   "source": [
    "---\n",
    "* Question 6\n",
    "Are the accidents along the day are caused by the same type of vehicle?\n",
    "\n",
    "Our first idea how to answer this question was to created a stacked bar chart for each hour of the day where in the total number of accidents at that time we distinguish the specific most popular types of cars that participate in the crashes.\n",
    "We create a stacked bar chart that visualizes the distribution of accidents by hour and the involvement of the top most frequent vehicle types. Each bar represents the total number of accidents at a specific hour, segmented by different vehicle types. The color encodes the vehicle types, allowing for a quick comparison of their contributions to accidents throughout the day. The chart aims to identify patterns in the types of vehicles involved in accidents at different hours."
   ]
  },
  {
   "cell_type": "code",
   "execution_count": null,
   "id": "d2b2a845",
   "metadata": {},
   "outputs": [],
   "source": [
    "hourly_vehicle_data = crash[['CRASH TIME', 'VEHICLE TYPE CODE 1']]\n",
    "\n",
    "hourly_vehicle_data['Hour'] = pd.to_datetime(hourly_vehicle_data['CRASH TIME']).dt.hour\n",
    "\n",
    "top_5_vehicle_types = hourly_vehicle_data['VEHICLE TYPE CODE 1'].value_counts().nlargest(5).index\n",
    "\n",
    "hourly_vehicle_data.loc[~hourly_vehicle_data['VEHICLE TYPE CODE 1'].isin(top_5_vehicle_types), 'VEHICLE TYPE CODE 1'] = 'Other'\n",
    "\n",
    "grouped_data = hourly_vehicle_data.groupby(['Hour', 'VEHICLE TYPE CODE 1']).size().reset_index(name='Count')\n",
    "\n",
    "chart = alt.Chart(grouped_data).mark_bar().encode(\n",
    "    x=alt.X('Hour:O', title='Hour'),\n",
    "    y=alt.Y('Count:Q', title='Number of Accidents'),\n",
    "    color=alt.Color('VEHICLE TYPE CODE 1:N', scale=alt.Scale(scheme='tableau10'))\n",
    ").properties(\n",
    "    width=600,\n",
    "    title='Stacked Bar Chart of Accidents by Hour and Vehicle Type'\n",
    ")\n",
    "\n",
    "chart"
   ]
  },
  {
   "cell_type": "markdown",
   "id": "5cc03139",
   "metadata": {},
   "source": [
    "As the next step we decided to create a line plot illustrating the variation in the number of accidents over the hours of the day, differentiated by the involvement of specific vehicle types. The 'Hour' axis represents the time of day, the 'Count' axis represents the number of accidents, and the colored lines depict different vehicle types. The chart is designed to highlight trends in accident occurrences throughout the day for the top 5 most frequent vehicle types, providing insights into their respective contributions to accidents during different hours. This chart inspired us to combine the overall accident count throughout the day with the incidents attributed to specific vehicle types."
   ]
  },
  {
   "cell_type": "code",
   "execution_count": null,
   "id": "1717b603",
   "metadata": {},
   "outputs": [],
   "source": [
    "hourly_vehicle_data = crash[['CRASH TIME', 'VEHICLE TYPE CODE 1']]\n",
    "\n",
    "hourly_vehicle_data['Hour'] = pd.to_datetime(hourly_vehicle_data['CRASH TIME']).dt.hour\n",
    "\n",
    "top_5_vehicle_types = hourly_vehicle_data['VEHICLE TYPE CODE 1'].value_counts().nlargest(5).index\n",
    "\n",
    "hourly_vehicle_data.loc[~hourly_vehicle_data['VEHICLE TYPE CODE 1'].isin(top_5_vehicle_types), 'VEHICLE TYPE CODE 1'] = 'Other'\n",
    "\n",
    "grouped_data = hourly_vehicle_data.groupby(['Hour', 'VEHICLE TYPE CODE 1']).size().reset_index(name='Count')\n",
    "\n",
    "chart = alt.Chart(grouped_data).mark_line().encode(\n",
    "    x=alt.X('Hour:O', title='Hour'),\n",
    "    y=alt.Y('Count:Q', title='Number of Accidents'),\n",
    "    color=alt.Color('VEHICLE TYPE CODE 1:N', scale=alt.Scale(scheme='tableau10'))\n",
    ").properties(\n",
    "    width=750,\n",
    "    height=550,\n",
    "    title='Line Plot of Accidents by Hour and Vehicle Type'\n",
    ")\n",
    "\n",
    "chart"
   ]
  },
  {
   "cell_type": "markdown",
   "id": "47ea6ba4",
   "metadata": {},
   "source": [
    "The next chart we created represents a stacked normalized bar chart illustrating the proportion of accidents throughout the day attributed to specific vehicle types. The top 5 most frequent vehicle types are highlighted, while others are grouped under 'Other.'"
   ]
  },
  {
   "cell_type": "code",
   "execution_count": null,
   "id": "1db061c8",
   "metadata": {},
   "outputs": [],
   "source": [
    "hourly_vehicle_data = crash[['CRASH TIME', 'VEHICLE TYPE CODE 1']]\n",
    "\n",
    "hourly_vehicle_data['Hour'] = pd.to_datetime(hourly_vehicle_data['CRASH TIME']).dt.hour\n",
    "\n",
    "top_5_vehicle_types = hourly_vehicle_data['VEHICLE TYPE CODE 1'].value_counts().nlargest(5).index\n",
    "\n",
    "hourly_vehicle_data.loc[~hourly_vehicle_data['VEHICLE TYPE CODE 1'].isin(top_5_vehicle_types), 'VEHICLE TYPE CODE 1'] = 'Other'\n",
    "\n",
    "grouped_data = hourly_vehicle_data.groupby(['Hour', 'VEHICLE TYPE CODE 1']).size().reset_index(name='Count')\n",
    "\n",
    "grouped_data['Proportion'] = grouped_data.groupby('Hour')['Count'].transform(lambda x: x / x.sum())\n",
    "\n",
    "chart = alt.Chart(grouped_data).mark_bar().encode(\n",
    "    x=alt.X('Hour:O', title='Hour'),\n",
    "    y=alt.Y('Proportion:Q', title='Proportion of Accidents'),\n",
    "    color=alt.Color('VEHICLE TYPE CODE 1:N',  scale=alt.Scale(scheme='tableau10'))\n",
    ").properties(\n",
    "    width=600,\n",
    "    title='Stacked Normalized Bar Chart of Accidents by Hour and Vehicle Type'\n",
    ")\n",
    "\n",
    "chart"
   ]
  },
  {
   "cell_type": "markdown",
   "id": "52e9092e",
   "metadata": {},
   "source": [
    "We decided to include in the final visualization the normalized bar chart as it gices us more additional information about the proportion between accidents caused by different types of vehicles throughout the day. The more quantitative approach abour the number of accidents is already included in the plot we created to answer question 3."
   ]
  },
  {
   "cell_type": "markdown",
   "id": "f69be76c",
   "metadata": {},
   "source": [
    "---\n",
    "* Question 7\n",
    "Does the number of pedestrians injured or dead depends on the type of vehicle?\n",
    "\n",
    "The most intuitive way for us to approach this question is to create a bar chart. We decided on stacked bar chart which encodes the vehicle types on the x-axis, representing the 'Vehicle Type' with labels angled at -45 degrees to avoid overlapping of the text (as in case of using horizontal text). The y-axis represents the count of pedestrians affected by the accident, differentiated by color to distinguish between people who got injured and killed. We sorted the chart in descending order based on the count of pedestrians, providing a visual comparison of the severity of pedestrian outcomes across different vehicle types.\n"
   ]
  },
  {
   "cell_type": "code",
   "execution_count": null,
   "id": "b9fd69a4",
   "metadata": {},
   "outputs": [],
   "source": [
    "pedestrian_data = crash[['VEHICLE TYPE CODE 1', 'NUMBER OF PEDESTRIANS KILLED', 'NUMBER OF PEDESTRIANS INJURED']]\n",
    "\n",
    "\n",
    "top_10_vehicle_types = pedestrian_data['VEHICLE TYPE CODE 1'].value_counts().nlargest(10).index\n",
    "\n",
    "\n",
    "top_10_data = pedestrian_data[pedestrian_data['VEHICLE TYPE CODE 1'].isin(top_10_vehicle_types)]\n",
    "\n",
    "\n",
    "grouped_data = top_10_data.groupby('VEHICLE TYPE CODE 1').sum().reset_index()\n",
    "\n",
    "melted_data = pd.melt(grouped_data, id_vars=['VEHICLE TYPE CODE 1'], value_vars=['NUMBER OF PEDESTRIANS KILLED', 'NUMBER OF PEDESTRIANS INJURED'],\n",
    "                      var_name='Pedestrian Status', value_name='Count')\n",
    "\n",
    "chart = alt.Chart(melted_data).mark_bar().encode(\n",
    "    x=alt.X('VEHICLE TYPE CODE 1:N', title='Vehicle Type', axis=alt.Axis(labelAngle=-45), sort=alt.SortField(field='Count', order='descending')),\n",
    "    y=alt.Y('Count:Q', title='Count'),\n",
    "    color=alt.Color('Pedestrian Status:N',\n",
    "                    legend=alt.Legend(title=None, orient='bottom', labelLimit=0, symbolLimit=0, symbolType='square'),\n",
    "                    scale=alt.Scale(scheme='blues')\n",
    "    )\n",
    ").properties(\n",
    "    width=600,\n",
    "    title='Number of Pedestrians Injured and Killed by Vehicle Type (Top 10 Types)'\n",
    ")\n",
    "\n",
    "chart"
   ]
  },
  {
   "cell_type": "markdown",
   "id": "5f0d746e",
   "metadata": {},
   "source": [
    "We display the chosen visualization using multiple views in streamlit. Working with streamlit turned out to be the biggest challange for us, due to many technical problems. The final visualization might not be perfect but we put a lot of effort to keep it as consistent as possible. Some charts are slightly overlapping and we were not able to prevent it. However, all of them can be enlarged to access them fully.\n",
    "\n",
    "Regarding the map, we wanted to show the amount of accidents in every district of New York by coloring the districts. Therefore, we had to merge the crash dataset with the map data of the geojson file. Since we had to access the geojson file via a link on Github, the merge operation in Streamlit was not possible anymore.\n"
   ]
  },
  {
   "cell_type": "markdown",
   "id": "f6df9dd5",
   "metadata": {},
   "source": [
    "Answers to questions through final visualization\n",
    "==\n",
    "Based on our final visualization we aim to answer the original questions of the task.\n"
   ]
  },
  {
   "cell_type": "markdown",
   "id": "8d20578a",
   "metadata": {},
   "source": [
    "* Question 1\n",
    "\n",
    "Are accidents more frequent during weekdays or weekends?\n",
    "\n",
    "Among the charts we can see a grouped bar chart with the number of collisions divided into periods before and during covid and differentiated by days of the week. There is also a stacked bar chart created by using values of average number of collisions per day. As we can see, accidents are more frequent during weekdays for both periods. However, what has changed is that during covid, the difference between accidents on weekdays and weekends began to decrease.\n",
    "\n",
    "* Question 2\n",
    "\n",
    "Is there any type of vehicle more prone to participate in accidents?\n",
    "\n",
    "\n",
    "To answer this question we can look at the bar chart showing the number of accidents for vehicle types with counts exceeding 2500. It is clearly visible that the highest bar was achieved by \"Sedan\" and therefore we can say that this type of vehicle is more prone to participate in accidents.\n",
    "\n",
    "\n",
    "* Question 3\n",
    "\n",
    "At what time of the day are accidents more common?\n",
    "\n",
    "In the line chart we can see the accidents by hour (on the x axis) and type of vehicle (on the y axis). When we look at the blue line, which shows the total amount of accidents by hour, we can say that accidents are more common between 8am and 8pm with a peak at 4pm.\n",
    "\n",
    "\n",
    "* Question 4\n",
    "\n",
    "Are there any areas with a larger number of accidents?\n",
    "\n",
    "In the map we can see the location of accidents in New York City visualized by blue plots. We can see that the most accidents are happening in Brooklyn, Queens, Manhattan and Bronx.\n",
    "Additionally, we can see that most of the accidents did not cause a lot of harm to people and the most serious accidents are scattered around the whole New York without any specific pattern.\n",
    "\n",
    "The visualization is in our colab notebook that we could not include in our streamlit app gives a better overview on the accidents per district.\n",
    "From the mentioned map we can not only see the order of the boroughs based on the number of collisions (from the color encoding) but by sliding over each district we can see the exact number of accidents. The most collisions, that is 25100 of them took place in Brooklyn.\n",
    "\n",
    "\n",
    "* Question 5\n",
    "\n",
    "Is there a correlation between weather conditions and accidents?\n",
    "\n",
    "By looking at the correlation matrix, we see that the most typical weather conditions do not seem to have significant impact on the accidents count. The biggest correlation of our interest would be with wind - as it is negative correlation, we deduct that the more windy it is the least collisions occur.\n",
    "We can see that precipitation has a slight positive impact on the number of collisions, during the rainy days collisions are more likely to happen.\n",
    "Temperature does not have much impact on the number of crashes.\n",
    "\n",
    "* Question 6\n",
    "\n",
    "Are the accidents along the day are caused by the same type of vehicle?\n",
    "\n",
    "By looking at the chart 'Line Plot of Accidents by Hour and Vehicle Type' we can distinguish for the most popular Vehicle Types the similar trend. For the whole day the biggest contributor to the total collision count is Sedan, followed by Station Wagon or Sport Utility Vehicle. For the less frequent car types the plot is more difficult to read as the lines overlap.\n",
    "\n",
    "By looking at the 'Stacked Bar Chart of Accidents by Hour and Vehicle Type' we see that throught the day the proportion of the collisions caused by less popular vehicle types slightly changes. During the night and early morning hours (around 21-5) one of the most significant contributors is Taxi, during the day hours the proportion changes and collisions are more often caused by Box Trucks and Pick-up Trucks.\n",
    "\n",
    "We see that there is still a significant proportion of other vehicles causing collisions throughout the whole day.\n",
    "\n",
    "\n",
    "* Question 7\n",
    "\n",
    "Does the number of pedestrians injured or dead depends on the type of vehicle?\n",
    "\n",
    "From the plot \"Number of Pedestrians Injured and Killed by Vehicle Type (Top 10 Types)' we can read that indeed the number of pedestrians injured or dead depends on the type of vehicle. The majority of harm was caused by the vehicle type Sedan, followed by Station Wagon or Sport Utility Vehicle. The other types of vehicles have caused significantly less damage. By looking at the number of accidents caused by the specific vehicle type, we see that these two counts strictly correlate - the more accidents the car type causes, the more harm to pedestrians happens.\n",
    "\n",
    "\n"
   ]
  }
 ],
 "metadata": {
  "kernelspec": {
   "display_name": "Python 3 (ipykernel)",
   "language": "python",
   "name": "python3"
  },
  "language_info": {
   "codemirror_mode": {
    "name": "ipython",
    "version": 3
   },
   "file_extension": ".py",
   "mimetype": "text/x-python",
   "name": "python",
   "nbconvert_exporter": "python",
   "pygments_lexer": "ipython3",
   "version": "3.9.16"
  }
 },
 "nbformat": 4,
 "nbformat_minor": 5
}
